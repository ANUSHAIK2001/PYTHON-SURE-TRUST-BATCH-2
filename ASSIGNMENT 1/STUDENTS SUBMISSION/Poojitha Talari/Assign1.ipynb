{
  "nbformat": 4,
  "nbformat_minor": 0,
  "metadata": {
    "colab": {
      "name": "Assign1.ipynb",
      "provenance": [],
      "collapsed_sections": []
    },
    "kernelspec": {
      "name": "python3",
      "display_name": "Python 3"
    },
    "language_info": {
      "name": "python"
    }
  },
  "cells": [
    {
      "cell_type": "code",
      "execution_count": null,
      "metadata": {
        "colab": {
          "base_uri": "https://localhost:8080/"
        },
        "id": "X6JA8HkTLM6q",
        "outputId": "01406d90-a204-48d4-8881-e4a3ab6ceed0"
      },
      "outputs": [
        {
          "output_type": "stream",
          "name": "stdout",
          "text": [
            "Dear customer what food item would you like to order from our restaurannt?:parota\n",
            "The generated order token for you is: 6paro#\n"
          ]
        }
      ],
      "source": [
        "x=input(\"Dear customer what food item would you like to order from our restaurannt?:\")\n",
        "y=len(x)\n",
        "z=x[:4]\n",
        "p=str(y)+z+\"#\"\n",
        "print(\"The generated order token for you is:\",p)"
      ]
    },
    {
      "cell_type": "code",
      "source": [
        "a=input(\"Enter the Name:\")\n",
        "b=input(\"Enter the 10th percentage:\")\n",
        "c=input(\"Enter the Maths subject marks:\")\n",
        "d=input(\"Enter the Science subject marks:\")\n",
        "e=input(\"Enter the Social subject marks:\")\n",
        "x=\"pqr\"\n",
        "y=2*x\n",
        "A=a[5:]\n",
        "B=b[1]\n",
        "C=c[-2]\n",
        "D=d[0]\n",
        "E=e[1]\n",
        "g=y+A+B+C+D+E\n",
        "print(g)"
      ],
      "metadata": {
        "colab": {
          "base_uri": "https://localhost:8080/"
        },
        "id": "FfAFR4jrMwOA",
        "outputId": "f1146e93-b871-4a6a-e100-05508b1b1f7c"
      },
      "execution_count": null,
      "outputs": [
        {
          "output_type": "stream",
          "name": "stdout",
          "text": [
            "Enter the Name:poojitha\n",
            "Enter the 10th percentage:95\n",
            "Enter the Maths subject marks:94\n",
            "Enter the Science subject marks:87\n",
            "Enter the Social subject marks:96\n",
            "pqrpqrtha5986\n"
          ]
        }
      ]
    }
  ]
}