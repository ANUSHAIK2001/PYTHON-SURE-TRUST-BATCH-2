{
 "cells": [
  {
   "cell_type": "code",
   "execution_count": 9,
   "id": "34feddd4",
   "metadata": {},
   "outputs": [
    {
     "name": "stdout",
     "output_type": "stream",
     "text": [
      "Enter your name:Mounika\n",
      "Enter your 10th Percentage:98\n",
      "Enter marks for maths subject:100\n",
      "Enter marks for science subject:95\n",
      "Enter marks for english subject:89\n",
      "Your token is: RGUKTRGUKTka8198RGUKTRGUKT\n"
     ]
    }
   ],
   "source": [
    "name=str(input(\"Enter your name:\"))\n",
    "p=str(input(\"Enter your 10th Percentage:\"))\n",
    "m=str(input(\"Enter marks for maths subject:\"))\n",
    "s=str(input(\"Enter marks for science subject:\"))\n",
    "e=str(input(\"Enter marks for english subject:\"))\n",
    "x=name[-2:]\n",
    "y=p[1]+m[0]+s[0]+e[0]\n",
    "z=2*\"RGUKT\"+x+y+2*\"RGUKT\"\n",
    "print(\"Your token is:\",z)"
   ]
  },
  {
   "cell_type": "code",
   "execution_count": null,
   "id": "45f765c1",
   "metadata": {},
   "outputs": [],
   "source": []
  }
 ],
 "metadata": {
  "kernelspec": {
   "display_name": "Python 3 (ipykernel)",
   "language": "python",
   "name": "python3"
  },
  "language_info": {
   "codemirror_mode": {
    "name": "ipython",
    "version": 3
   },
   "file_extension": ".py",
   "mimetype": "text/x-python",
   "name": "python",
   "nbconvert_exporter": "python",
   "pygments_lexer": "ipython3",
   "version": "3.9.12"
  }
 },
 "nbformat": 4,
 "nbformat_minor": 5
}
