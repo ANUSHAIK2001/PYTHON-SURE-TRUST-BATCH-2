{
 "cells": [
  {
   "cell_type": "code",
   "execution_count": 13,
   "id": "70753d94",
   "metadata": {},
   "outputs": [
    {
     "name": "stdout",
     "output_type": "stream",
     "text": [
      "Dear customer what food item would you like to order from our restaurant? tea\n",
      "The generated order token for you is: 3tea#\n"
     ]
    }
   ],
   "source": [
    "fooditem=str(input(\"Dear customer what food item would you like to order from our restaurant? \"))\n",
    "l=len(fooditem)\n",
    "s=fooditem[:3]\n",
    "c=str(l)\n",
    "r=c+s+'#'\n",
    "print(\"The generated order token for you is:\",r)"
   ]
  },
  {
   "cell_type": "code",
   "execution_count": 14,
   "id": "5e5013c6",
   "metadata": {
    "scrolled": true
   },
   "outputs": [
    {
     "name": "stdout",
     "output_type": "stream",
     "text": [
      "Dear customer what food item would you like to order from our restaurant? chole bhature\n",
      "The generated order token for you is: 13cho#\n"
     ]
    }
   ],
   "source": [
    "fooditem=str(input(\"Dear customer what food item would you like to order from our restaurant? \"))\n",
    "l=len(fooditem)\n",
    "s=fooditem[:3]\n",
    "c=str(l)\n",
    "r=c+s+'#'\n",
    "print(\"The generated order token for you is:\",r)"
   ]
  },
  {
   "cell_type": "code",
   "execution_count": 18,
   "id": "9896f315",
   "metadata": {},
   "outputs": [
    {
     "name": "stdout",
     "output_type": "stream",
     "text": [
      "Dear customer what food item would you like to order from our restaurant? coffee\n",
      "The generated order token for you is: 6cof#\n"
     ]
    }
   ],
   "source": [
    "fooditem=str(input(\"Dear customer what food item would you like to order from our restaurant?\"))\n",
    "l=len(fooditem)\n",
    "s=fooditem[:3]\n",
    "c=str(l)\n",
    "r=c+s+'#'\n",
    "print(\"The generated order token for you is:\",r)"
   ]
  },
  {
   "cell_type": "code",
   "execution_count": 16,
   "id": "b7930391",
   "metadata": {},
   "outputs": [
    {
     "name": "stdout",
     "output_type": "stream",
     "text": [
      "Dear customer what food item would you like to order from our restaurant? sandwich\n",
      "The generated order token for you is: 8san#\n"
     ]
    }
   ],
   "source": [
    "fooditem=str(input(\"Dear customer what food item would you like to order from our restaurant? \"))\n",
    "l=len(fooditem)\n",
    "s=fooditem[:3]\n",
    "c=str(l)\n",
    "r=c+s+'#'\n",
    "print(\"The generated order token for you is:\",r)"
   ]
  },
  {
   "cell_type": "code",
   "execution_count": null,
   "id": "af653e27",
   "metadata": {},
   "outputs": [],
   "source": []
  },
  {
   "cell_type": "code",
   "execution_count": null,
   "id": "5895ab9a",
   "metadata": {},
   "outputs": [],
   "source": []
  },
  {
   "cell_type": "code",
   "execution_count": null,
   "id": "75f9bfda",
   "metadata": {},
   "outputs": [],
   "source": []
  },
  {
   "cell_type": "code",
   "execution_count": null,
   "id": "5fc49340",
   "metadata": {},
   "outputs": [],
   "source": []
  }
 ],
 "metadata": {
  "kernelspec": {
   "display_name": "Python 3 (ipykernel)",
   "language": "python",
   "name": "python3"
  },
  "language_info": {
   "codemirror_mode": {
    "name": "ipython",
    "version": 3
   },
   "file_extension": ".py",
   "mimetype": "text/x-python",
   "name": "python",
   "nbconvert_exporter": "python",
   "pygments_lexer": "ipython3",
   "version": "3.9.12"
  }
 },
 "nbformat": 4,
 "nbformat_minor": 5
}
