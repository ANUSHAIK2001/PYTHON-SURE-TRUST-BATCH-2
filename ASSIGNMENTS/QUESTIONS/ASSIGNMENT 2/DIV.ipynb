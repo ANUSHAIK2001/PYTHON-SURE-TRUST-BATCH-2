{
 "cells": [
  {
   "cell_type": "code",
   "execution_count": null,
   "id": "4498814f",
   "metadata": {},
   "outputs": [],
   "source": [
    "a=int(input('enter the number:'))\n",
    "b=int(input('enter the number:'))\n",
    "if a%b==0:\n",
    "   print('first number is divisible by second number')\n",
    "if a%b!=0:\n",
    "    print('first is not divisible by second number')"
   ]
  },
  {
   "cell_type": "code",
   "execution_count": null,
   "id": "8510edc1",
   "metadata": {},
   "outputs": [],
   "source": []
  },
  {
   "cell_type": "code",
   "execution_count": null,
   "id": "98c86394",
   "metadata": {},
   "outputs": [],
   "source": []
  },
  {
   "cell_type": "code",
   "execution_count": null,
   "id": "b2ee9fae",
   "metadata": {},
   "outputs": [],
   "source": []
  },
  {
   "cell_type": "code",
   "execution_count": null,
   "id": "01fd0099",
   "metadata": {},
   "outputs": [],
   "source": []
  }
 ],
 "metadata": {
  "kernelspec": {
   "display_name": "Python 3 (ipykernel)",
   "language": "python",
   "name": "python3"
  },
  "language_info": {
   "codemirror_mode": {
    "name": "ipython",
    "version": 3
   },
   "file_extension": ".py",
   "mimetype": "text/x-python",
   "name": "python",
   "nbconvert_exporter": "python",
   "pygments_lexer": "ipython3",
   "version": "3.9.12"
  }
 },
 "nbformat": 4,
 "nbformat_minor": 5
}
