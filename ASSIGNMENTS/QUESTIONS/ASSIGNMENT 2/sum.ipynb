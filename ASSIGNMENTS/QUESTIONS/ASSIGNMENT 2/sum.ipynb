{
 "cells": [
  {
   "cell_type": "code",
   "execution_count": 100,
   "id": "76fe4604",
   "metadata": {},
   "outputs": [
    {
     "name": "stdout",
     "output_type": "stream",
     "text": [
      "enter the first number:4\n",
      "enter the second number:4\n",
      "enter the third number:4\n",
      "[4, 4, 4]\n",
      "sum of three digits 12\n",
      "False\n",
      "4\n",
      "False\n",
      "4\n",
      "False\n",
      "4\n",
      "False\n"
     ]
    }
   ],
   "source": [
    "a=int(input('enter the first number:'))\n",
    "b=int(input('enter the second number:'))\n",
    "c=int(input('enter the third number:'))\n",
    "list1=[a,b,c]\n",
    "print(list1)\n",
    "s=a+b+c\n",
    "print('sum of three digits',s)\n",
    "if a==b:\n",
    "    s1=0==a+b\n",
    "    print(s1) \n",
    "    s12=s1+c\n",
    "print(s12)\n",
    "if b==c:\n",
    "   s2=0==b+c\n",
    "   print(s2)\n",
    "   s21=s2+a\n",
    "print(s21)\n",
    "if a==c:\n",
    "   s3=0==a+c\n",
    "   print(s3)\n",
    "   s31=s3+b\n",
    "print(s31)\n",
    "if a==b:\n",
    "    if b==c:\n",
    "        s4==0==a+c+b\n",
    "print(s4)\n",
    "  \n"
   ]
  },
  {
   "cell_type": "code",
   "execution_count": null,
   "id": "0574d02f",
   "metadata": {},
   "outputs": [],
   "source": []
  },
  {
   "cell_type": "code",
   "execution_count": 37,
   "id": "721357f1",
   "metadata": {},
   "outputs": [
    {
     "data": {
      "text/plain": [
       "2"
      ]
     },
     "execution_count": 37,
     "metadata": {},
     "output_type": "execute_result"
    }
   ],
   "source": [
    "2\n"
   ]
  },
  {
   "cell_type": "code",
   "execution_count": null,
   "id": "f6e1b113",
   "metadata": {},
   "outputs": [],
   "source": []
  }
 ],
 "metadata": {
  "kernelspec": {
   "display_name": "Python 3 (ipykernel)",
   "language": "python",
   "name": "python3"
  },
  "language_info": {
   "codemirror_mode": {
    "name": "ipython",
    "version": 3
   },
   "file_extension": ".py",
   "mimetype": "text/x-python",
   "name": "python",
   "nbconvert_exporter": "python",
   "pygments_lexer": "ipython3",
   "version": "3.9.12"
  }
 },
 "nbformat": 4,
 "nbformat_minor": 5
}
