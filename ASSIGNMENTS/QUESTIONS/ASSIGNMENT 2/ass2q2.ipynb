{
 "cells": [
  {
   "cell_type": "code",
   "execution_count": 6,
   "id": "8f506b52",
   "metadata": {},
   "outputs": [
    {
     "name": "stdout",
     "output_type": "stream",
     "text": [
      "enter the number:33\n",
      "the given number is odd 33\n"
     ]
    }
   ],
   "source": [
    "a=int(input('enter the number:'))\n",
    "if a%2==0:\n",
    "    print('the given number is even',a)\n",
    "if a%2!=0:\n",
    "    print('the given number is odd',a)"
   ]
  },
  {
   "cell_type": "code",
   "execution_count": null,
   "id": "0de12a65",
   "metadata": {},
   "outputs": [],
   "source": []
  }
 ],
 "metadata": {
  "kernelspec": {
   "display_name": "Python 3 (ipykernel)",
   "language": "python",
   "name": "python3"
  },
  "language_info": {
   "codemirror_mode": {
    "name": "ipython",
    "version": 3
   },
   "file_extension": ".py",
   "mimetype": "text/x-python",
   "name": "python",
   "nbconvert_exporter": "python",
   "pygments_lexer": "ipython3",
   "version": "3.9.12"
  }
 },
 "nbformat": 4,
 "nbformat_minor": 5
}
